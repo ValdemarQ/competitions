{
 "cells": [
  {
   "cell_type": "markdown",
   "metadata": {},
   "source": [
    "## New York City Taxi Fare Prediction\n",
    "\n",
    "Can you predict a rider's taxi fare?"
   ]
  },
  {
   "cell_type": "code",
   "execution_count": 1,
   "metadata": {},
   "outputs": [],
   "source": [
    "import numpy as np\n",
    "import pandas as pd\n",
    "import matplotlib.pyplot as plt\n",
    "import seaborn as sns\n",
    "import geopy.distance #Python distance measuring package\n",
    "from tqdm import tqdm\n",
    "import datetime as dt"
   ]
  },
  {
   "cell_type": "markdown",
   "metadata": {},
   "source": [
    "## Reading data \n",
    "Very large dataset"
   ]
  },
  {
   "cell_type": "code",
   "execution_count": 2,
   "metadata": {},
   "outputs": [
    {
     "name": "stdout",
     "output_type": "stream",
     "text": [
      "Wall time: 212 ms\n"
     ]
    }
   ],
   "source": [
    "## Use only latest dates as price indication, since past time is not very reelevant\n",
    "%time test_df= pd.read_csv('test.csv',parse_dates=['pickup_datetime'])\n",
    "TRAIN_PATH = 'train.csv'"
   ]
  },
  {
   "cell_type": "code",
   "execution_count": 22,
   "metadata": {},
   "outputs": [
    {
     "name": "stdout",
     "output_type": "stream",
     "text": [
      "Exact number of rows: 55423857\n",
      "Wall time: 2.66 s\n"
     ]
    }
   ],
   "source": [
    "%%time\n",
    "\n",
    "# Method 2 by @danlester, using wc unix command. Takes only 3 seconds!\n",
    "s = !wc -l {TRAIN_PATH}\n",
    "\n",
    "# add one because the file isn't quite correctly formatted as a CSV, should have a final newline char\n",
    "n_rows = int(s[0].split(' ')[0])+1\n",
    "\n",
    "print (f'Exact number of rows: {n_rows}')"
   ]
  },
  {
   "cell_type": "code",
   "execution_count": 23,
   "metadata": {},
   "outputs": [],
   "source": [
    "# Set columns to most suitable type to optimize for memory usage\n",
    "traintypes = {'fare_amount': 'float32',\n",
    "              'pickup_datetime': 'str', \n",
    "              'pickup_longitude': 'float32',\n",
    "              'pickup_latitude': 'float32',\n",
    "              'dropoff_longitude': 'float32',\n",
    "              'dropoff_latitude': 'float32',\n",
    "              'passenger_count': 'uint8'}\n",
    "\n",
    "cols = list(traintypes.keys())\n",
    "\n",
    "chunksize = 5_000_000 # 5 million rows at one go. Or try 10 million"
   ]
  },
  {
   "cell_type": "code",
   "execution_count": 24,
   "metadata": {},
   "outputs": [
    {
     "name": "stderr",
     "output_type": "stream",
     "text": [
      "12it [01:30,  7.51s/it]"
     ]
    },
    {
     "name": "stdout",
     "output_type": "stream",
     "text": [
      "Wall time: 1min 30s\n"
     ]
    },
    {
     "name": "stderr",
     "output_type": "stream",
     "text": [
      "\n"
     ]
    }
   ],
   "source": [
    "%%time\n",
    "df_list = [] # list to hold the batch dataframe\n",
    "\n",
    "for df_chunk in tqdm(pd.read_csv(TRAIN_PATH, usecols=cols, dtype=traintypes, chunksize=chunksize)):\n",
    "     \n",
    "    # Neat trick from https://www.kaggle.com/btyuhas/bayesian-optimization-with-xgboost\n",
    "    # Using parse_dates would be much slower!\n",
    "    df_chunk['pickup_datetime'] = df_chunk['pickup_datetime'].str.slice(0, 16)\n",
    "    df_chunk['pickup_datetime'] = pd.to_datetime(df_chunk['pickup_datetime'], utc=True, format='%Y-%m-%d %H:%M')\n",
    "    \n",
    "    # Can process each chunk of dataframe here\n",
    "    # clean_data(), feature_engineer(),fit()\n",
    "    \n",
    "    # Alternatively, append the chunk to list and merge all\n",
    "    df_list.append(df_chunk) "
   ]
  },
  {
   "cell_type": "code",
   "execution_count": 25,
   "metadata": {},
   "outputs": [
    {
     "name": "stdout",
     "output_type": "stream",
     "text": [
      "<class 'pandas.core.frame.DataFrame'>\n",
      "RangeIndex: 55423856 entries, 0 to 55423855\n",
      "Data columns (total 7 columns):\n",
      "fare_amount          float32\n",
      "pickup_datetime      datetime64[ns, UTC]\n",
      "pickup_longitude     float32\n",
      "pickup_latitude      float32\n",
      "dropoff_longitude    float32\n",
      "dropoff_latitude     float32\n",
      "passenger_count      uint8\n",
      "dtypes: datetime64[ns, UTC](1), float32(5), uint8(1)\n",
      "memory usage: 1.5 GB\n"
     ]
    }
   ],
   "source": [
    "# Merge all dataframes into one dataframe\n",
    "train_df = pd.concat(df_list)\n",
    "\n",
    "# Delete the dataframe list to release memory\n",
    "del df_list\n",
    "\n",
    "# See what we have loaded\n",
    "train_df.info()"
   ]
  },
  {
   "cell_type": "code",
   "execution_count": 26,
   "metadata": {},
   "outputs": [
    {
     "name": "stdout",
     "output_type": "stream",
     "text": [
      "Wall time: 6.84 s\n"
     ]
    }
   ],
   "source": [
    "%%time\n",
    "# Save into feather format, about 1.5Gb. \n",
    "train_df.to_feather('nyc_taxi_data_raw.feather')"
   ]
  },
  {
   "cell_type": "code",
   "execution_count": 3,
   "metadata": {},
   "outputs": [
    {
     "name": "stdout",
     "output_type": "stream",
     "text": [
      "Wall time: 2.08 s\n"
     ]
    }
   ],
   "source": [
    "%%time\n",
    "# load the same dataframe next time directly, without reading the csv file again!\n",
    "train_df_new = pd.read_feather('nyc_taxi_data_raw.feather')"
   ]
  },
  {
   "cell_type": "code",
   "execution_count": 4,
   "metadata": {
    "scrolled": false
   },
   "outputs": [
    {
     "data": {
      "text/html": [
       "<div>\n",
       "<style scoped>\n",
       "    .dataframe tbody tr th:only-of-type {\n",
       "        vertical-align: middle;\n",
       "    }\n",
       "\n",
       "    .dataframe tbody tr th {\n",
       "        vertical-align: top;\n",
       "    }\n",
       "\n",
       "    .dataframe thead th {\n",
       "        text-align: right;\n",
       "    }\n",
       "</style>\n",
       "<table border=\"1\" class=\"dataframe\">\n",
       "  <thead>\n",
       "    <tr style=\"text-align: right;\">\n",
       "      <th></th>\n",
       "      <th>fare_amount</th>\n",
       "      <th>pickup_datetime</th>\n",
       "      <th>pickup_longitude</th>\n",
       "      <th>pickup_latitude</th>\n",
       "      <th>dropoff_longitude</th>\n",
       "      <th>dropoff_latitude</th>\n",
       "      <th>passenger_count</th>\n",
       "    </tr>\n",
       "  </thead>\n",
       "  <tbody>\n",
       "    <tr>\n",
       "      <td>0</td>\n",
       "      <td>4.5</td>\n",
       "      <td>2009-06-15 17:26:00+00:00</td>\n",
       "      <td>-73.844315</td>\n",
       "      <td>40.721317</td>\n",
       "      <td>-73.841614</td>\n",
       "      <td>40.712276</td>\n",
       "      <td>1</td>\n",
       "    </tr>\n",
       "    <tr>\n",
       "      <td>1</td>\n",
       "      <td>16.9</td>\n",
       "      <td>2010-01-05 16:52:00+00:00</td>\n",
       "      <td>-74.016045</td>\n",
       "      <td>40.711304</td>\n",
       "      <td>-73.979271</td>\n",
       "      <td>40.782005</td>\n",
       "      <td>1</td>\n",
       "    </tr>\n",
       "    <tr>\n",
       "      <td>2</td>\n",
       "      <td>5.7</td>\n",
       "      <td>2011-08-18 00:35:00+00:00</td>\n",
       "      <td>-73.982735</td>\n",
       "      <td>40.761269</td>\n",
       "      <td>-73.991241</td>\n",
       "      <td>40.750561</td>\n",
       "      <td>2</td>\n",
       "    </tr>\n",
       "    <tr>\n",
       "      <td>3</td>\n",
       "      <td>7.7</td>\n",
       "      <td>2012-04-21 04:30:00+00:00</td>\n",
       "      <td>-73.987129</td>\n",
       "      <td>40.733143</td>\n",
       "      <td>-73.991570</td>\n",
       "      <td>40.758091</td>\n",
       "      <td>1</td>\n",
       "    </tr>\n",
       "    <tr>\n",
       "      <td>4</td>\n",
       "      <td>5.3</td>\n",
       "      <td>2010-03-09 07:51:00+00:00</td>\n",
       "      <td>-73.968094</td>\n",
       "      <td>40.768009</td>\n",
       "      <td>-73.956657</td>\n",
       "      <td>40.783764</td>\n",
       "      <td>1</td>\n",
       "    </tr>\n",
       "    <tr>\n",
       "      <td>...</td>\n",
       "      <td>...</td>\n",
       "      <td>...</td>\n",
       "      <td>...</td>\n",
       "      <td>...</td>\n",
       "      <td>...</td>\n",
       "      <td>...</td>\n",
       "      <td>...</td>\n",
       "    </tr>\n",
       "    <tr>\n",
       "      <td>55423851</td>\n",
       "      <td>14.0</td>\n",
       "      <td>2014-03-15 03:28:00+00:00</td>\n",
       "      <td>-74.005272</td>\n",
       "      <td>40.740028</td>\n",
       "      <td>-73.963280</td>\n",
       "      <td>40.762554</td>\n",
       "      <td>1</td>\n",
       "    </tr>\n",
       "    <tr>\n",
       "      <td>55423852</td>\n",
       "      <td>4.2</td>\n",
       "      <td>2009-03-24 20:46:00+00:00</td>\n",
       "      <td>-73.957787</td>\n",
       "      <td>40.765530</td>\n",
       "      <td>-73.951637</td>\n",
       "      <td>40.773960</td>\n",
       "      <td>1</td>\n",
       "    </tr>\n",
       "    <tr>\n",
       "      <td>55423853</td>\n",
       "      <td>14.1</td>\n",
       "      <td>2011-04-02 22:04:00+00:00</td>\n",
       "      <td>-73.970505</td>\n",
       "      <td>40.752323</td>\n",
       "      <td>-73.960541</td>\n",
       "      <td>40.797340</td>\n",
       "      <td>1</td>\n",
       "    </tr>\n",
       "    <tr>\n",
       "      <td>55423854</td>\n",
       "      <td>28.9</td>\n",
       "      <td>2011-10-26 05:57:00+00:00</td>\n",
       "      <td>-73.980904</td>\n",
       "      <td>40.764629</td>\n",
       "      <td>-73.870605</td>\n",
       "      <td>40.773964</td>\n",
       "      <td>1</td>\n",
       "    </tr>\n",
       "    <tr>\n",
       "      <td>55423855</td>\n",
       "      <td>7.5</td>\n",
       "      <td>2014-12-12 11:33:00+00:00</td>\n",
       "      <td>-73.969719</td>\n",
       "      <td>40.797668</td>\n",
       "      <td>-73.970886</td>\n",
       "      <td>40.783314</td>\n",
       "      <td>1</td>\n",
       "    </tr>\n",
       "  </tbody>\n",
       "</table>\n",
       "<p>55423854 rows × 7 columns</p>\n",
       "</div>"
      ],
      "text/plain": [
       "          fare_amount           pickup_datetime  pickup_longitude  \\\n",
       "0                 4.5 2009-06-15 17:26:00+00:00        -73.844315   \n",
       "1                16.9 2010-01-05 16:52:00+00:00        -74.016045   \n",
       "2                 5.7 2011-08-18 00:35:00+00:00        -73.982735   \n",
       "3                 7.7 2012-04-21 04:30:00+00:00        -73.987129   \n",
       "4                 5.3 2010-03-09 07:51:00+00:00        -73.968094   \n",
       "...               ...                       ...               ...   \n",
       "55423851         14.0 2014-03-15 03:28:00+00:00        -74.005272   \n",
       "55423852          4.2 2009-03-24 20:46:00+00:00        -73.957787   \n",
       "55423853         14.1 2011-04-02 22:04:00+00:00        -73.970505   \n",
       "55423854         28.9 2011-10-26 05:57:00+00:00        -73.980904   \n",
       "55423855          7.5 2014-12-12 11:33:00+00:00        -73.969719   \n",
       "\n",
       "          pickup_latitude  dropoff_longitude  dropoff_latitude  \\\n",
       "0               40.721317         -73.841614         40.712276   \n",
       "1               40.711304         -73.979271         40.782005   \n",
       "2               40.761269         -73.991241         40.750561   \n",
       "3               40.733143         -73.991570         40.758091   \n",
       "4               40.768009         -73.956657         40.783764   \n",
       "...                   ...                ...               ...   \n",
       "55423851        40.740028         -73.963280         40.762554   \n",
       "55423852        40.765530         -73.951637         40.773960   \n",
       "55423853        40.752323         -73.960541         40.797340   \n",
       "55423854        40.764629         -73.870605         40.773964   \n",
       "55423855        40.797668         -73.970886         40.783314   \n",
       "\n",
       "          passenger_count  \n",
       "0                       1  \n",
       "1                       1  \n",
       "2                       2  \n",
       "3                       1  \n",
       "4                       1  \n",
       "...                   ...  \n",
       "55423851                1  \n",
       "55423852                1  \n",
       "55423853                1  \n",
       "55423854                1  \n",
       "55423855                1  \n",
       "\n",
       "[55423854 rows x 7 columns]"
      ]
     },
     "execution_count": 4,
     "metadata": {},
     "output_type": "execute_result"
    }
   ],
   "source": [
    "train_df = train_df_new\n",
    "#Error values for Distance\n",
    "train_df = train_df.drop([792209])\n",
    "train_df = train_df.drop([54704717])\n",
    "train_df"
   ]
  },
  {
   "cell_type": "code",
   "execution_count": 5,
   "metadata": {},
   "outputs": [
    {
     "data": {
      "text/html": [
       "<div>\n",
       "<style scoped>\n",
       "    .dataframe tbody tr th:only-of-type {\n",
       "        vertical-align: middle;\n",
       "    }\n",
       "\n",
       "    .dataframe tbody tr th {\n",
       "        vertical-align: top;\n",
       "    }\n",
       "\n",
       "    .dataframe thead th {\n",
       "        text-align: right;\n",
       "    }\n",
       "</style>\n",
       "<table border=\"1\" class=\"dataframe\">\n",
       "  <thead>\n",
       "    <tr style=\"text-align: right;\">\n",
       "      <th></th>\n",
       "      <th>key</th>\n",
       "      <th>pickup_datetime</th>\n",
       "      <th>pickup_longitude</th>\n",
       "      <th>pickup_latitude</th>\n",
       "      <th>dropoff_longitude</th>\n",
       "      <th>dropoff_latitude</th>\n",
       "      <th>passenger_count</th>\n",
       "    </tr>\n",
       "  </thead>\n",
       "  <tbody>\n",
       "    <tr>\n",
       "      <td>0</td>\n",
       "      <td>2015-01-27 13:08:24.0000002</td>\n",
       "      <td>2015-01-27 13:08:24+00:00</td>\n",
       "      <td>-73.973320</td>\n",
       "      <td>40.763805</td>\n",
       "      <td>-73.981430</td>\n",
       "      <td>40.743835</td>\n",
       "      <td>1</td>\n",
       "    </tr>\n",
       "    <tr>\n",
       "      <td>1</td>\n",
       "      <td>2015-01-27 13:08:24.0000003</td>\n",
       "      <td>2015-01-27 13:08:24+00:00</td>\n",
       "      <td>-73.986862</td>\n",
       "      <td>40.719383</td>\n",
       "      <td>-73.998886</td>\n",
       "      <td>40.739201</td>\n",
       "      <td>1</td>\n",
       "    </tr>\n",
       "    <tr>\n",
       "      <td>2</td>\n",
       "      <td>2011-10-08 11:53:44.0000002</td>\n",
       "      <td>2011-10-08 11:53:44+00:00</td>\n",
       "      <td>-73.982524</td>\n",
       "      <td>40.751260</td>\n",
       "      <td>-73.979654</td>\n",
       "      <td>40.746139</td>\n",
       "      <td>1</td>\n",
       "    </tr>\n",
       "    <tr>\n",
       "      <td>3</td>\n",
       "      <td>2012-12-01 21:12:12.0000002</td>\n",
       "      <td>2012-12-01 21:12:12+00:00</td>\n",
       "      <td>-73.981160</td>\n",
       "      <td>40.767807</td>\n",
       "      <td>-73.990448</td>\n",
       "      <td>40.751635</td>\n",
       "      <td>1</td>\n",
       "    </tr>\n",
       "    <tr>\n",
       "      <td>4</td>\n",
       "      <td>2012-12-01 21:12:12.0000003</td>\n",
       "      <td>2012-12-01 21:12:12+00:00</td>\n",
       "      <td>-73.966046</td>\n",
       "      <td>40.789775</td>\n",
       "      <td>-73.988565</td>\n",
       "      <td>40.744427</td>\n",
       "      <td>1</td>\n",
       "    </tr>\n",
       "    <tr>\n",
       "      <td>...</td>\n",
       "      <td>...</td>\n",
       "      <td>...</td>\n",
       "      <td>...</td>\n",
       "      <td>...</td>\n",
       "      <td>...</td>\n",
       "      <td>...</td>\n",
       "      <td>...</td>\n",
       "    </tr>\n",
       "    <tr>\n",
       "      <td>9909</td>\n",
       "      <td>2015-05-10 12:37:51.0000002</td>\n",
       "      <td>2015-05-10 12:37:51+00:00</td>\n",
       "      <td>-73.968124</td>\n",
       "      <td>40.796997</td>\n",
       "      <td>-73.955643</td>\n",
       "      <td>40.780388</td>\n",
       "      <td>6</td>\n",
       "    </tr>\n",
       "    <tr>\n",
       "      <td>9910</td>\n",
       "      <td>2015-01-12 17:05:51.0000001</td>\n",
       "      <td>2015-01-12 17:05:51+00:00</td>\n",
       "      <td>-73.945511</td>\n",
       "      <td>40.803600</td>\n",
       "      <td>-73.960213</td>\n",
       "      <td>40.776371</td>\n",
       "      <td>6</td>\n",
       "    </tr>\n",
       "    <tr>\n",
       "      <td>9911</td>\n",
       "      <td>2015-04-19 20:44:15.0000001</td>\n",
       "      <td>2015-04-19 20:44:15+00:00</td>\n",
       "      <td>-73.991600</td>\n",
       "      <td>40.726608</td>\n",
       "      <td>-73.789742</td>\n",
       "      <td>40.647011</td>\n",
       "      <td>6</td>\n",
       "    </tr>\n",
       "    <tr>\n",
       "      <td>9912</td>\n",
       "      <td>2015-01-31 01:05:19.0000005</td>\n",
       "      <td>2015-01-31 01:05:19+00:00</td>\n",
       "      <td>-73.985573</td>\n",
       "      <td>40.735432</td>\n",
       "      <td>-73.939178</td>\n",
       "      <td>40.801731</td>\n",
       "      <td>6</td>\n",
       "    </tr>\n",
       "    <tr>\n",
       "      <td>9913</td>\n",
       "      <td>2015-01-18 14:06:23.0000006</td>\n",
       "      <td>2015-01-18 14:06:23+00:00</td>\n",
       "      <td>-73.988022</td>\n",
       "      <td>40.754070</td>\n",
       "      <td>-74.000282</td>\n",
       "      <td>40.759220</td>\n",
       "      <td>6</td>\n",
       "    </tr>\n",
       "  </tbody>\n",
       "</table>\n",
       "<p>9914 rows × 7 columns</p>\n",
       "</div>"
      ],
      "text/plain": [
       "                              key           pickup_datetime  pickup_longitude  \\\n",
       "0     2015-01-27 13:08:24.0000002 2015-01-27 13:08:24+00:00        -73.973320   \n",
       "1     2015-01-27 13:08:24.0000003 2015-01-27 13:08:24+00:00        -73.986862   \n",
       "2     2011-10-08 11:53:44.0000002 2011-10-08 11:53:44+00:00        -73.982524   \n",
       "3     2012-12-01 21:12:12.0000002 2012-12-01 21:12:12+00:00        -73.981160   \n",
       "4     2012-12-01 21:12:12.0000003 2012-12-01 21:12:12+00:00        -73.966046   \n",
       "...                           ...                       ...               ...   \n",
       "9909  2015-05-10 12:37:51.0000002 2015-05-10 12:37:51+00:00        -73.968124   \n",
       "9910  2015-01-12 17:05:51.0000001 2015-01-12 17:05:51+00:00        -73.945511   \n",
       "9911  2015-04-19 20:44:15.0000001 2015-04-19 20:44:15+00:00        -73.991600   \n",
       "9912  2015-01-31 01:05:19.0000005 2015-01-31 01:05:19+00:00        -73.985573   \n",
       "9913  2015-01-18 14:06:23.0000006 2015-01-18 14:06:23+00:00        -73.988022   \n",
       "\n",
       "      pickup_latitude  dropoff_longitude  dropoff_latitude  passenger_count  \n",
       "0           40.763805         -73.981430         40.743835                1  \n",
       "1           40.719383         -73.998886         40.739201                1  \n",
       "2           40.751260         -73.979654         40.746139                1  \n",
       "3           40.767807         -73.990448         40.751635                1  \n",
       "4           40.789775         -73.988565         40.744427                1  \n",
       "...               ...                ...               ...              ...  \n",
       "9909        40.796997         -73.955643         40.780388                6  \n",
       "9910        40.803600         -73.960213         40.776371                6  \n",
       "9911        40.726608         -73.789742         40.647011                6  \n",
       "9912        40.735432         -73.939178         40.801731                6  \n",
       "9913        40.754070         -74.000282         40.759220                6  \n",
       "\n",
       "[9914 rows x 7 columns]"
      ]
     },
     "execution_count": 5,
     "metadata": {},
     "output_type": "execute_result"
    }
   ],
   "source": [
    "test_df"
   ]
  },
  {
   "cell_type": "markdown",
   "metadata": {},
   "source": [
    "### EDA\n",
    "\n",
    "\n",
    "\n",
    "\n"
   ]
  },
  {
   "cell_type": "code",
   "execution_count": 6,
   "metadata": {},
   "outputs": [
    {
     "name": "stderr",
     "output_type": "stream",
     "text": [
      "c:\\users\\val\\appdata\\local\\programs\\python\\python37\\lib\\site-packages\\pandas\\plotting\\_matplotlib\\converter.py:103: FutureWarning: Using an implicitly registered datetime converter for a matplotlib plotting method. The converter was registered by pandas on import. Future versions of pandas will require you to explicitly register matplotlib converters.\n",
      "\n",
      "To register the converters:\n",
      "\t>>> from pandas.plotting import register_matplotlib_converters\n",
      "\t>>> register_matplotlib_converters()\n",
      "  warnings.warn(msg, FutureWarning)\n"
     ]
    },
    {
     "data": {
      "text/plain": [
       "<matplotlib.axes._subplots.AxesSubplot at 0xf546e74408>"
      ]
     },
     "execution_count": 6,
     "metadata": {},
     "output_type": "execute_result"
    },
    {
     "data": {
      "image/png": "[encoded data removed]",
      "text/plain": [
       "<Figure size 432x288 with 1 Axes>"
      ]
     },
     "metadata": {
      "needs_background": "light"
     },
     "output_type": "display_data"
    }
   ],
   "source": [
    "#apparently test data is mixed for various intervals from 2009 to 2015. \n",
    "test_df.pickup_datetime.hist()"
   ]
  },
  {
   "cell_type": "code",
   "execution_count": 7,
   "metadata": {},
   "outputs": [
    {
     "data": {
      "text/plain": [
       "<matplotlib.axes._subplots.AxesSubplot at 0xf502135b08>"
      ]
     },
     "execution_count": 7,
     "metadata": {},
     "output_type": "execute_result"
    },
    {
     "data": {
      "image/png": "[encoded data removed]",
      "text/plain": [
       "<Figure size 432x288 with 1 Axes>"
      ]
     },
     "metadata": {
      "needs_background": "light"
     },
     "output_type": "display_data"
    }
   ],
   "source": [
    "#train data is balanced and also for same intervals\n",
    "train_df.pickup_datetime.hist()"
   ]
  },
  {
   "cell_type": "code",
   "execution_count": 8,
   "metadata": {},
   "outputs": [
    {
     "data": {
      "text/plain": [
       "1      38337522\n",
       "2       8175243\n",
       "5       3929346\n",
       "3       2432712\n",
       "4       1178852\n",
       "6       1174647\n",
       "0        195416\n",
       "208          64\n",
       "9            23\n",
       "7            15\n",
       "8             9\n",
       "129           2\n",
       "51            1\n",
       "49            1\n",
       "34            1\n",
       "Name: passenger_count, dtype: int64"
      ]
     },
     "execution_count": 8,
     "metadata": {},
     "output_type": "execute_result"
    }
   ],
   "source": [
    "#remove Outlices Keep only data 6 or less passengers.\n",
    "train_df.passenger_count.value_counts()"
   ]
  },
  {
   "cell_type": "code",
   "execution_count": 9,
   "metadata": {},
   "outputs": [
    {
     "data": {
      "text/plain": [
       "1    38337522\n",
       "2     8175243\n",
       "5     3929346\n",
       "3     2432712\n",
       "4     1178852\n",
       "6     1174647\n",
       "Name: passenger_count, dtype: int64"
      ]
     },
     "execution_count": 9,
     "metadata": {},
     "output_type": "execute_result"
    }
   ],
   "source": [
    "#passenger count 0? - Drop maybe\n",
    "train_df = train_df[(train_df.passenger_count > 0) & (train_df.passenger_count <=6) ]\n",
    "train_df.passenger_count.value_counts()"
   ]
  },
  {
   "cell_type": "code",
   "execution_count": 10,
   "metadata": {},
   "outputs": [],
   "source": [
    "#keep data where fare amount is positive (negative doesn't make any sense)\n",
    "train_df = train_df[train_df.fare_amount > 0]"
   ]
  },
  {
   "cell_type": "code",
   "execution_count": 11,
   "metadata": {},
   "outputs": [
    {
     "data": {
      "text/html": [
       "<div>\n",
       "<style scoped>\n",
       "    .dataframe tbody tr th:only-of-type {\n",
       "        vertical-align: middle;\n",
       "    }\n",
       "\n",
       "    .dataframe tbody tr th {\n",
       "        vertical-align: top;\n",
       "    }\n",
       "\n",
       "    .dataframe thead th {\n",
       "        text-align: right;\n",
       "    }\n",
       "</style>\n",
       "<table border=\"1\" class=\"dataframe\">\n",
       "  <thead>\n",
       "    <tr style=\"text-align: right;\">\n",
       "      <th></th>\n",
       "      <th>fare_amount</th>\n",
       "      <th>pickup_datetime</th>\n",
       "      <th>pickup_longitude</th>\n",
       "      <th>pickup_latitude</th>\n",
       "      <th>dropoff_longitude</th>\n",
       "      <th>dropoff_latitude</th>\n",
       "      <th>passenger_count</th>\n",
       "    </tr>\n",
       "  </thead>\n",
       "  <tbody>\n",
       "    <tr>\n",
       "      <td>0</td>\n",
       "      <td>4.5</td>\n",
       "      <td>2009-06-15 17:26:00+00:00</td>\n",
       "      <td>-73.844315</td>\n",
       "      <td>40.721317</td>\n",
       "      <td>-73.841614</td>\n",
       "      <td>40.712276</td>\n",
       "      <td>1</td>\n",
       "    </tr>\n",
       "    <tr>\n",
       "      <td>1</td>\n",
       "      <td>16.9</td>\n",
       "      <td>2010-01-05 16:52:00+00:00</td>\n",
       "      <td>-74.016045</td>\n",
       "      <td>40.711304</td>\n",
       "      <td>-73.979271</td>\n",
       "      <td>40.782005</td>\n",
       "      <td>1</td>\n",
       "    </tr>\n",
       "    <tr>\n",
       "      <td>2</td>\n",
       "      <td>5.7</td>\n",
       "      <td>2011-08-18 00:35:00+00:00</td>\n",
       "      <td>-73.982735</td>\n",
       "      <td>40.761269</td>\n",
       "      <td>-73.991241</td>\n",
       "      <td>40.750561</td>\n",
       "      <td>2</td>\n",
       "    </tr>\n",
       "    <tr>\n",
       "      <td>3</td>\n",
       "      <td>7.7</td>\n",
       "      <td>2012-04-21 04:30:00+00:00</td>\n",
       "      <td>-73.987129</td>\n",
       "      <td>40.733143</td>\n",
       "      <td>-73.991570</td>\n",
       "      <td>40.758091</td>\n",
       "      <td>1</td>\n",
       "    </tr>\n",
       "    <tr>\n",
       "      <td>4</td>\n",
       "      <td>5.3</td>\n",
       "      <td>2010-03-09 07:51:00+00:00</td>\n",
       "      <td>-73.968094</td>\n",
       "      <td>40.768009</td>\n",
       "      <td>-73.956657</td>\n",
       "      <td>40.783764</td>\n",
       "      <td>1</td>\n",
       "    </tr>\n",
       "    <tr>\n",
       "      <td>...</td>\n",
       "      <td>...</td>\n",
       "      <td>...</td>\n",
       "      <td>...</td>\n",
       "      <td>...</td>\n",
       "      <td>...</td>\n",
       "      <td>...</td>\n",
       "      <td>...</td>\n",
       "    </tr>\n",
       "    <tr>\n",
       "      <td>55423851</td>\n",
       "      <td>14.0</td>\n",
       "      <td>2014-03-15 03:28:00+00:00</td>\n",
       "      <td>-74.005272</td>\n",
       "      <td>40.740028</td>\n",
       "      <td>-73.963280</td>\n",
       "      <td>40.762554</td>\n",
       "      <td>1</td>\n",
       "    </tr>\n",
       "    <tr>\n",
       "      <td>55423852</td>\n",
       "      <td>4.2</td>\n",
       "      <td>2009-03-24 20:46:00+00:00</td>\n",
       "      <td>-73.957787</td>\n",
       "      <td>40.765530</td>\n",
       "      <td>-73.951637</td>\n",
       "      <td>40.773960</td>\n",
       "      <td>1</td>\n",
       "    </tr>\n",
       "    <tr>\n",
       "      <td>55423853</td>\n",
       "      <td>14.1</td>\n",
       "      <td>2011-04-02 22:04:00+00:00</td>\n",
       "      <td>-73.970505</td>\n",
       "      <td>40.752323</td>\n",
       "      <td>-73.960541</td>\n",
       "      <td>40.797340</td>\n",
       "      <td>1</td>\n",
       "    </tr>\n",
       "    <tr>\n",
       "      <td>55423854</td>\n",
       "      <td>28.9</td>\n",
       "      <td>2011-10-26 05:57:00+00:00</td>\n",
       "      <td>-73.980904</td>\n",
       "      <td>40.764629</td>\n",
       "      <td>-73.870605</td>\n",
       "      <td>40.773964</td>\n",
       "      <td>1</td>\n",
       "    </tr>\n",
       "    <tr>\n",
       "      <td>55423855</td>\n",
       "      <td>7.5</td>\n",
       "      <td>2014-12-12 11:33:00+00:00</td>\n",
       "      <td>-73.969719</td>\n",
       "      <td>40.797668</td>\n",
       "      <td>-73.970886</td>\n",
       "      <td>40.783314</td>\n",
       "      <td>1</td>\n",
       "    </tr>\n",
       "  </tbody>\n",
       "</table>\n",
       "<p>55224507 rows × 7 columns</p>\n",
       "</div>"
      ],
      "text/plain": [
       "          fare_amount           pickup_datetime  pickup_longitude  \\\n",
       "0                 4.5 2009-06-15 17:26:00+00:00        -73.844315   \n",
       "1                16.9 2010-01-05 16:52:00+00:00        -74.016045   \n",
       "2                 5.7 2011-08-18 00:35:00+00:00        -73.982735   \n",
       "3                 7.7 2012-04-21 04:30:00+00:00        -73.987129   \n",
       "4                 5.3 2010-03-09 07:51:00+00:00        -73.968094   \n",
       "...               ...                       ...               ...   \n",
       "55423851         14.0 2014-03-15 03:28:00+00:00        -74.005272   \n",
       "55423852          4.2 2009-03-24 20:46:00+00:00        -73.957787   \n",
       "55423853         14.1 2011-04-02 22:04:00+00:00        -73.970505   \n",
       "55423854         28.9 2011-10-26 05:57:00+00:00        -73.980904   \n",
       "55423855          7.5 2014-12-12 11:33:00+00:00        -73.969719   \n",
       "\n",
       "          pickup_latitude  dropoff_longitude  dropoff_latitude  \\\n",
       "0               40.721317         -73.841614         40.712276   \n",
       "1               40.711304         -73.979271         40.782005   \n",
       "2               40.761269         -73.991241         40.750561   \n",
       "3               40.733143         -73.991570         40.758091   \n",
       "4               40.768009         -73.956657         40.783764   \n",
       "...                   ...                ...               ...   \n",
       "55423851        40.740028         -73.963280         40.762554   \n",
       "55423852        40.765530         -73.951637         40.773960   \n",
       "55423853        40.752323         -73.960541         40.797340   \n",
       "55423854        40.764629         -73.870605         40.773964   \n",
       "55423855        40.797668         -73.970886         40.783314   \n",
       "\n",
       "          passenger_count  \n",
       "0                       1  \n",
       "1                       1  \n",
       "2                       2  \n",
       "3                       1  \n",
       "4                       1  \n",
       "...                   ...  \n",
       "55423851                1  \n",
       "55423852                1  \n",
       "55423853                1  \n",
       "55423854                1  \n",
       "55423855                1  \n",
       "\n",
       "[55224507 rows x 7 columns]"
      ]
     },
     "execution_count": 11,
     "metadata": {},
     "output_type": "execute_result"
    }
   ],
   "source": [
    "train_df"
   ]
  },
  {
   "cell_type": "code",
   "execution_count": 12,
   "metadata": {},
   "outputs": [
    {
     "data": {
      "text/plain": [
       "(552246, 7)"
      ]
     },
     "execution_count": 12,
     "metadata": {},
     "output_type": "execute_result"
    }
   ],
   "source": [
    "## Reduce size of train 100 times\n",
    "train_df = train_df.iloc[::100]\n",
    "train_df.shape"
   ]
  },
  {
   "cell_type": "code",
   "execution_count": 13,
   "metadata": {},
   "outputs": [
    {
     "data": {
      "text/plain": [
       "<matplotlib.axes._subplots.AxesSubplot at 0xf5025df308>"
      ]
     },
     "execution_count": 13,
     "metadata": {},
     "output_type": "execute_result"
    },
    {
     "data": {
      "image/png": "[encoded data removed]",
      "text/plain": [
       "<Figure size 432x288 with 1 Axes>"
      ]
     },
     "metadata": {
      "needs_background": "light"
     },
     "output_type": "display_data"
    }
   ],
   "source": [
    "train_df.pickup_datetime.hist()"
   ]
  },
  {
   "cell_type": "markdown",
   "metadata": {},
   "source": [
    "## Feature engineering\n",
    "\n",
    "- Distance in KM +\n",
    "- Time of day (Hours) + \n",
    "- Time of week (Mon,Tue) +\n",
    "- Time of month (Jan, Feb) +"
   ]
  },
  {
   "cell_type": "markdown",
   "metadata": {},
   "source": [
    "### Distance in KM"
   ]
  },
  {
   "cell_type": "code",
   "execution_count": 14,
   "metadata": {},
   "outputs": [
    {
     "data": {
      "text/html": [
       "<div>\n",
       "<style scoped>\n",
       "    .dataframe tbody tr th:only-of-type {\n",
       "        vertical-align: middle;\n",
       "    }\n",
       "\n",
       "    .dataframe tbody tr th {\n",
       "        vertical-align: top;\n",
       "    }\n",
       "\n",
       "    .dataframe thead th {\n",
       "        text-align: right;\n",
       "    }\n",
       "</style>\n",
       "<table border=\"1\" class=\"dataframe\">\n",
       "  <thead>\n",
       "    <tr style=\"text-align: right;\">\n",
       "      <th></th>\n",
       "      <th>fare_amount</th>\n",
       "      <th>pickup_datetime</th>\n",
       "      <th>pickup_longitude</th>\n",
       "      <th>pickup_latitude</th>\n",
       "      <th>dropoff_longitude</th>\n",
       "      <th>dropoff_latitude</th>\n",
       "      <th>passenger_count</th>\n",
       "    </tr>\n",
       "  </thead>\n",
       "  <tbody>\n",
       "    <tr>\n",
       "      <td>0</td>\n",
       "      <td>4.5</td>\n",
       "      <td>2009-06-15 17:26:00+00:00</td>\n",
       "      <td>-73.844315</td>\n",
       "      <td>40.721317</td>\n",
       "      <td>-73.841614</td>\n",
       "      <td>40.712276</td>\n",
       "      <td>1</td>\n",
       "    </tr>\n",
       "    <tr>\n",
       "      <td>100</td>\n",
       "      <td>10.0</td>\n",
       "      <td>2014-11-12 12:40:00+00:00</td>\n",
       "      <td>-74.002579</td>\n",
       "      <td>40.739571</td>\n",
       "      <td>-73.994583</td>\n",
       "      <td>40.760681</td>\n",
       "      <td>1</td>\n",
       "    </tr>\n",
       "    <tr>\n",
       "      <td>200</td>\n",
       "      <td>6.0</td>\n",
       "      <td>2013-10-05 09:12:00+00:00</td>\n",
       "      <td>-74.000313</td>\n",
       "      <td>40.747959</td>\n",
       "      <td>-73.993637</td>\n",
       "      <td>40.757229</td>\n",
       "      <td>1</td>\n",
       "    </tr>\n",
       "    <tr>\n",
       "      <td>300</td>\n",
       "      <td>12.1</td>\n",
       "      <td>2010-03-27 22:20:00+00:00</td>\n",
       "      <td>-73.870934</td>\n",
       "      <td>40.773705</td>\n",
       "      <td>-73.914268</td>\n",
       "      <td>40.753681</td>\n",
       "      <td>1</td>\n",
       "    </tr>\n",
       "    <tr>\n",
       "      <td>401</td>\n",
       "      <td>10.5</td>\n",
       "      <td>2011-10-16 22:37:00+00:00</td>\n",
       "      <td>-73.997269</td>\n",
       "      <td>40.719963</td>\n",
       "      <td>-73.994270</td>\n",
       "      <td>40.754211</td>\n",
       "      <td>1</td>\n",
       "    </tr>\n",
       "    <tr>\n",
       "      <td>...</td>\n",
       "      <td>...</td>\n",
       "      <td>...</td>\n",
       "      <td>...</td>\n",
       "      <td>...</td>\n",
       "      <td>...</td>\n",
       "      <td>...</td>\n",
       "      <td>...</td>\n",
       "    </tr>\n",
       "    <tr>\n",
       "      <td>55423449</td>\n",
       "      <td>13.7</td>\n",
       "      <td>2010-05-10 14:36:00+00:00</td>\n",
       "      <td>-74.003586</td>\n",
       "      <td>40.713474</td>\n",
       "      <td>-73.995789</td>\n",
       "      <td>40.764729</td>\n",
       "      <td>1</td>\n",
       "    </tr>\n",
       "    <tr>\n",
       "      <td>55423549</td>\n",
       "      <td>9.3</td>\n",
       "      <td>2011-06-18 13:45:00+00:00</td>\n",
       "      <td>-73.990410</td>\n",
       "      <td>40.731583</td>\n",
       "      <td>-73.998505</td>\n",
       "      <td>40.745045</td>\n",
       "      <td>1</td>\n",
       "    </tr>\n",
       "    <tr>\n",
       "      <td>55423649</td>\n",
       "      <td>10.5</td>\n",
       "      <td>2010-02-28 19:50:00+00:00</td>\n",
       "      <td>-74.008820</td>\n",
       "      <td>40.708858</td>\n",
       "      <td>-73.983376</td>\n",
       "      <td>40.735096</td>\n",
       "      <td>1</td>\n",
       "    </tr>\n",
       "    <tr>\n",
       "      <td>55423749</td>\n",
       "      <td>5.3</td>\n",
       "      <td>2009-05-05 20:13:00+00:00</td>\n",
       "      <td>-73.985893</td>\n",
       "      <td>40.741116</td>\n",
       "      <td>-73.988747</td>\n",
       "      <td>40.749302</td>\n",
       "      <td>2</td>\n",
       "    </tr>\n",
       "    <tr>\n",
       "      <td>55423849</td>\n",
       "      <td>12.0</td>\n",
       "      <td>2014-03-04 22:25:00+00:00</td>\n",
       "      <td>-73.983017</td>\n",
       "      <td>40.745083</td>\n",
       "      <td>-73.954178</td>\n",
       "      <td>40.767338</td>\n",
       "      <td>1</td>\n",
       "    </tr>\n",
       "  </tbody>\n",
       "</table>\n",
       "<p>552209 rows × 7 columns</p>\n",
       "</div>"
      ],
      "text/plain": [
       "          fare_amount           pickup_datetime  pickup_longitude  \\\n",
       "0                 4.5 2009-06-15 17:26:00+00:00        -73.844315   \n",
       "100              10.0 2014-11-12 12:40:00+00:00        -74.002579   \n",
       "200               6.0 2013-10-05 09:12:00+00:00        -74.000313   \n",
       "300              12.1 2010-03-27 22:20:00+00:00        -73.870934   \n",
       "401              10.5 2011-10-16 22:37:00+00:00        -73.997269   \n",
       "...               ...                       ...               ...   \n",
       "55423449         13.7 2010-05-10 14:36:00+00:00        -74.003586   \n",
       "55423549          9.3 2011-06-18 13:45:00+00:00        -73.990410   \n",
       "55423649         10.5 2010-02-28 19:50:00+00:00        -74.008820   \n",
       "55423749          5.3 2009-05-05 20:13:00+00:00        -73.985893   \n",
       "55423849         12.0 2014-03-04 22:25:00+00:00        -73.983017   \n",
       "\n",
       "          pickup_latitude  dropoff_longitude  dropoff_latitude  \\\n",
       "0               40.721317         -73.841614         40.712276   \n",
       "100             40.739571         -73.994583         40.760681   \n",
       "200             40.747959         -73.993637         40.757229   \n",
       "300             40.773705         -73.914268         40.753681   \n",
       "401             40.719963         -73.994270         40.754211   \n",
       "...                   ...                ...               ...   \n",
       "55423449        40.713474         -73.995789         40.764729   \n",
       "55423549        40.731583         -73.998505         40.745045   \n",
       "55423649        40.708858         -73.983376         40.735096   \n",
       "55423749        40.741116         -73.988747         40.749302   \n",
       "55423849        40.745083         -73.954178         40.767338   \n",
       "\n",
       "          passenger_count  \n",
       "0                       1  \n",
       "100                     1  \n",
       "200                     1  \n",
       "300                     1  \n",
       "401                     1  \n",
       "...                   ...  \n",
       "55423449                1  \n",
       "55423549                1  \n",
       "55423649                1  \n",
       "55423749                2  \n",
       "55423849                1  \n",
       "\n",
       "[552209 rows x 7 columns]"
      ]
     },
     "execution_count": 14,
     "metadata": {},
     "output_type": "execute_result"
    }
   ],
   "source": [
    "# select only correct values\n",
    "train_df = train_df[(train_df['pickup_latitude'] >= -89) & (train_df['pickup_latitude'] <= 89) ]\n",
    "train_df = train_df[(train_df['dropoff_latitude'] >= -89) & (train_df['dropoff_latitude'] <= 89) ]\n",
    "train_df = train_df[(train_df['pickup_longitude'] >= -179) & (train_df['pickup_longitude'] <= 179) ]\n",
    "train_df = train_df[(train_df['dropoff_longitude'] >= -179) & (train_df['dropoff_longitude'] <= 179) ]\n",
    "train_df"
   ]
  },
  {
   "cell_type": "code",
   "execution_count": 15,
   "metadata": {},
   "outputs": [
    {
     "data": {
      "text/plain": [
       "(552209, 7)"
      ]
     },
     "execution_count": 15,
     "metadata": {},
     "output_type": "execute_result"
    }
   ],
   "source": [
    "train_df.shape "
   ]
  },
  {
   "cell_type": "code",
   "execution_count": 16,
   "metadata": {},
   "outputs": [],
   "source": [
    "def distance(row):\n",
    "    coords_1 = (row['pickup_longitude'], row['pickup_latitude'])\n",
    "    coords_2 = (row['dropoff_longitude'], row['dropoff_latitude'])\n",
    "    \n",
    "    return geopy.distance.geodesic(coords_1, coords_2).km\n",
    "\n",
    "test_df['distance_km'] = test_df.apply(distance, axis=1)"
   ]
  },
  {
   "cell_type": "code",
   "execution_count": 17,
   "metadata": {},
   "outputs": [],
   "source": [
    "train_df['distance_km'] = train_df.apply(distance, axis=1)"
   ]
  },
  {
   "cell_type": "markdown",
   "metadata": {},
   "source": [
    "### Hours of day, Weekday, Month"
   ]
  },
  {
   "cell_type": "code",
   "execution_count": 18,
   "metadata": {},
   "outputs": [],
   "source": [
    "data = [train_df,test_df]\n",
    "\n",
    "for dataset in data:\n",
    "    dataset['hour_of_day'] = dataset.pickup_datetime.dt.hour\n",
    "    dataset['weekday'] = dataset.pickup_datetime.dt.weekday\n",
    "    dataset['month'] = dataset.pickup_datetime.dt.month\n",
    "    dataset['quarter'] = dataset.pickup_datetime.dt.quarter\n",
    "    dataset['dayofyear'] = dataset.pickup_datetime.dt.dayofyear\n",
    "    dataset['year'] = dataset.pickup_datetime.dt.year"
   ]
  },
  {
   "cell_type": "code",
   "execution_count": 19,
   "metadata": {},
   "outputs": [
    {
     "data": {
      "text/html": [
       "<div>\n",
       "<style scoped>\n",
       "    .dataframe tbody tr th:only-of-type {\n",
       "        vertical-align: middle;\n",
       "    }\n",
       "\n",
       "    .dataframe tbody tr th {\n",
       "        vertical-align: top;\n",
       "    }\n",
       "\n",
       "    .dataframe thead th {\n",
       "        text-align: right;\n",
       "    }\n",
       "</style>\n",
       "<table border=\"1\" class=\"dataframe\">\n",
       "  <thead>\n",
       "    <tr style=\"text-align: right;\">\n",
       "      <th></th>\n",
       "      <th>key</th>\n",
       "      <th>pickup_datetime</th>\n",
       "      <th>pickup_longitude</th>\n",
       "      <th>pickup_latitude</th>\n",
       "      <th>dropoff_longitude</th>\n",
       "      <th>dropoff_latitude</th>\n",
       "      <th>passenger_count</th>\n",
       "      <th>distance_km</th>\n",
       "      <th>hour_of_day</th>\n",
       "      <th>weekday</th>\n",
       "      <th>month</th>\n",
       "      <th>quarter</th>\n",
       "      <th>dayofyear</th>\n",
       "      <th>year</th>\n",
       "    </tr>\n",
       "  </thead>\n",
       "  <tbody>\n",
       "    <tr>\n",
       "      <td>0</td>\n",
       "      <td>2015-01-27 13:08:24.0000002</td>\n",
       "      <td>2015-01-27 13:08:24+00:00</td>\n",
       "      <td>-73.973320</td>\n",
       "      <td>40.763805</td>\n",
       "      <td>-73.981430</td>\n",
       "      <td>40.743835</td>\n",
       "      <td>1</td>\n",
       "      <td>1.094593</td>\n",
       "      <td>13</td>\n",
       "      <td>1</td>\n",
       "      <td>1</td>\n",
       "      <td>1</td>\n",
       "      <td>27</td>\n",
       "      <td>2015</td>\n",
       "    </tr>\n",
       "    <tr>\n",
       "      <td>1</td>\n",
       "      <td>2015-01-27 13:08:24.0000003</td>\n",
       "      <td>2015-01-27 13:08:24+00:00</td>\n",
       "      <td>-73.986862</td>\n",
       "      <td>40.719383</td>\n",
       "      <td>-73.998886</td>\n",
       "      <td>40.739201</td>\n",
       "      <td>1</td>\n",
       "      <td>1.474196</td>\n",
       "      <td>13</td>\n",
       "      <td>1</td>\n",
       "      <td>1</td>\n",
       "      <td>1</td>\n",
       "      <td>27</td>\n",
       "      <td>2015</td>\n",
       "    </tr>\n",
       "    <tr>\n",
       "      <td>2</td>\n",
       "      <td>2011-10-08 11:53:44.0000002</td>\n",
       "      <td>2011-10-08 11:53:44+00:00</td>\n",
       "      <td>-73.982524</td>\n",
       "      <td>40.751260</td>\n",
       "      <td>-73.979654</td>\n",
       "      <td>40.746139</td>\n",
       "      <td>1</td>\n",
       "      <td>0.357076</td>\n",
       "      <td>11</td>\n",
       "      <td>5</td>\n",
       "      <td>10</td>\n",
       "      <td>4</td>\n",
       "      <td>281</td>\n",
       "      <td>2011</td>\n",
       "    </tr>\n",
       "    <tr>\n",
       "      <td>3</td>\n",
       "      <td>2012-12-01 21:12:12.0000002</td>\n",
       "      <td>2012-12-01 21:12:12+00:00</td>\n",
       "      <td>-73.981160</td>\n",
       "      <td>40.767807</td>\n",
       "      <td>-73.990448</td>\n",
       "      <td>40.751635</td>\n",
       "      <td>1</td>\n",
       "      <td>1.150116</td>\n",
       "      <td>21</td>\n",
       "      <td>5</td>\n",
       "      <td>12</td>\n",
       "      <td>4</td>\n",
       "      <td>336</td>\n",
       "      <td>2012</td>\n",
       "    </tr>\n",
       "    <tr>\n",
       "      <td>4</td>\n",
       "      <td>2012-12-01 21:12:12.0000003</td>\n",
       "      <td>2012-12-01 21:12:12+00:00</td>\n",
       "      <td>-73.966046</td>\n",
       "      <td>40.789775</td>\n",
       "      <td>-73.988565</td>\n",
       "      <td>40.744427</td>\n",
       "      <td>1</td>\n",
       "      <td>2.875803</td>\n",
       "      <td>21</td>\n",
       "      <td>5</td>\n",
       "      <td>12</td>\n",
       "      <td>4</td>\n",
       "      <td>336</td>\n",
       "      <td>2012</td>\n",
       "    </tr>\n",
       "    <tr>\n",
       "      <td>...</td>\n",
       "      <td>...</td>\n",
       "      <td>...</td>\n",
       "      <td>...</td>\n",
       "      <td>...</td>\n",
       "      <td>...</td>\n",
       "      <td>...</td>\n",
       "      <td>...</td>\n",
       "      <td>...</td>\n",
       "      <td>...</td>\n",
       "      <td>...</td>\n",
       "      <td>...</td>\n",
       "      <td>...</td>\n",
       "      <td>...</td>\n",
       "      <td>...</td>\n",
       "    </tr>\n",
       "    <tr>\n",
       "      <td>9909</td>\n",
       "      <td>2015-05-10 12:37:51.0000002</td>\n",
       "      <td>2015-05-10 12:37:51+00:00</td>\n",
       "      <td>-73.968124</td>\n",
       "      <td>40.796997</td>\n",
       "      <td>-73.955643</td>\n",
       "      <td>40.780388</td>\n",
       "      <td>6</td>\n",
       "      <td>1.484303</td>\n",
       "      <td>12</td>\n",
       "      <td>6</td>\n",
       "      <td>5</td>\n",
       "      <td>2</td>\n",
       "      <td>130</td>\n",
       "      <td>2015</td>\n",
       "    </tr>\n",
       "    <tr>\n",
       "      <td>9910</td>\n",
       "      <td>2015-01-12 17:05:51.0000001</td>\n",
       "      <td>2015-01-12 17:05:51+00:00</td>\n",
       "      <td>-73.945511</td>\n",
       "      <td>40.803600</td>\n",
       "      <td>-73.960213</td>\n",
       "      <td>40.776371</td>\n",
       "      <td>6</td>\n",
       "      <td>1.843581</td>\n",
       "      <td>17</td>\n",
       "      <td>0</td>\n",
       "      <td>1</td>\n",
       "      <td>1</td>\n",
       "      <td>12</td>\n",
       "      <td>2015</td>\n",
       "    </tr>\n",
       "    <tr>\n",
       "      <td>9911</td>\n",
       "      <td>2015-04-19 20:44:15.0000001</td>\n",
       "      <td>2015-04-19 20:44:15+00:00</td>\n",
       "      <td>-73.991600</td>\n",
       "      <td>40.726608</td>\n",
       "      <td>-73.789742</td>\n",
       "      <td>40.647011</td>\n",
       "      <td>6</td>\n",
       "      <td>22.663427</td>\n",
       "      <td>20</td>\n",
       "      <td>6</td>\n",
       "      <td>4</td>\n",
       "      <td>2</td>\n",
       "      <td>109</td>\n",
       "      <td>2015</td>\n",
       "    </tr>\n",
       "    <tr>\n",
       "      <td>9912</td>\n",
       "      <td>2015-01-31 01:05:19.0000005</td>\n",
       "      <td>2015-01-31 01:05:19+00:00</td>\n",
       "      <td>-73.985573</td>\n",
       "      <td>40.735432</td>\n",
       "      <td>-73.939178</td>\n",
       "      <td>40.801731</td>\n",
       "      <td>6</td>\n",
       "      <td>5.567288</td>\n",
       "      <td>1</td>\n",
       "      <td>5</td>\n",
       "      <td>1</td>\n",
       "      <td>1</td>\n",
       "      <td>31</td>\n",
       "      <td>2015</td>\n",
       "    </tr>\n",
       "    <tr>\n",
       "      <td>9913</td>\n",
       "      <td>2015-01-18 14:06:23.0000006</td>\n",
       "      <td>2015-01-18 14:06:23+00:00</td>\n",
       "      <td>-73.988022</td>\n",
       "      <td>40.754070</td>\n",
       "      <td>-74.000282</td>\n",
       "      <td>40.759220</td>\n",
       "      <td>6</td>\n",
       "      <td>1.377522</td>\n",
       "      <td>14</td>\n",
       "      <td>6</td>\n",
       "      <td>1</td>\n",
       "      <td>1</td>\n",
       "      <td>18</td>\n",
       "      <td>2015</td>\n",
       "    </tr>\n",
       "  </tbody>\n",
       "</table>\n",
       "<p>9914 rows × 14 columns</p>\n",
       "</div>"
      ],
      "text/plain": [
       "                              key           pickup_datetime  pickup_longitude  \\\n",
       "0     2015-01-27 13:08:24.0000002 2015-01-27 13:08:24+00:00        -73.973320   \n",
       "1     2015-01-27 13:08:24.0000003 2015-01-27 13:08:24+00:00        -73.986862   \n",
       "2     2011-10-08 11:53:44.0000002 2011-10-08 11:53:44+00:00        -73.982524   \n",
       "3     2012-12-01 21:12:12.0000002 2012-12-01 21:12:12+00:00        -73.981160   \n",
       "4     2012-12-01 21:12:12.0000003 2012-12-01 21:12:12+00:00        -73.966046   \n",
       "...                           ...                       ...               ...   \n",
       "9909  2015-05-10 12:37:51.0000002 2015-05-10 12:37:51+00:00        -73.968124   \n",
       "9910  2015-01-12 17:05:51.0000001 2015-01-12 17:05:51+00:00        -73.945511   \n",
       "9911  2015-04-19 20:44:15.0000001 2015-04-19 20:44:15+00:00        -73.991600   \n",
       "9912  2015-01-31 01:05:19.0000005 2015-01-31 01:05:19+00:00        -73.985573   \n",
       "9913  2015-01-18 14:06:23.0000006 2015-01-18 14:06:23+00:00        -73.988022   \n",
       "\n",
       "      pickup_latitude  dropoff_longitude  dropoff_latitude  passenger_count  \\\n",
       "0           40.763805         -73.981430         40.743835                1   \n",
       "1           40.719383         -73.998886         40.739201                1   \n",
       "2           40.751260         -73.979654         40.746139                1   \n",
       "3           40.767807         -73.990448         40.751635                1   \n",
       "4           40.789775         -73.988565         40.744427                1   \n",
       "...               ...                ...               ...              ...   \n",
       "9909        40.796997         -73.955643         40.780388                6   \n",
       "9910        40.803600         -73.960213         40.776371                6   \n",
       "9911        40.726608         -73.789742         40.647011                6   \n",
       "9912        40.735432         -73.939178         40.801731                6   \n",
       "9913        40.754070         -74.000282         40.759220                6   \n",
       "\n",
       "      distance_km  hour_of_day  weekday  month  quarter  dayofyear  year  \n",
       "0        1.094593           13        1      1        1         27  2015  \n",
       "1        1.474196           13        1      1        1         27  2015  \n",
       "2        0.357076           11        5     10        4        281  2011  \n",
       "3        1.150116           21        5     12        4        336  2012  \n",
       "4        2.875803           21        5     12        4        336  2012  \n",
       "...           ...          ...      ...    ...      ...        ...   ...  \n",
       "9909     1.484303           12        6      5        2        130  2015  \n",
       "9910     1.843581           17        0      1        1         12  2015  \n",
       "9911    22.663427           20        6      4        2        109  2015  \n",
       "9912     5.567288            1        5      1        1         31  2015  \n",
       "9913     1.377522           14        6      1        1         18  2015  \n",
       "\n",
       "[9914 rows x 14 columns]"
      ]
     },
     "execution_count": 19,
     "metadata": {},
     "output_type": "execute_result"
    }
   ],
   "source": [
    "test_df"
   ]
  },
  {
   "cell_type": "code",
   "execution_count": 20,
   "metadata": {},
   "outputs": [
    {
     "data": {
      "text/plain": [
       "fare_amount                      float32\n",
       "pickup_datetime      datetime64[ns, UTC]\n",
       "pickup_longitude                 float32\n",
       "pickup_latitude                  float32\n",
       "dropoff_longitude                float32\n",
       "dropoff_latitude                 float32\n",
       "passenger_count                    uint8\n",
       "distance_km                      float64\n",
       "hour_of_day                        int64\n",
       "weekday                            int64\n",
       "month                              int64\n",
       "quarter                            int64\n",
       "dayofyear                          int64\n",
       "year                               int64\n",
       "dtype: object"
      ]
     },
     "execution_count": 20,
     "metadata": {},
     "output_type": "execute_result"
    }
   ],
   "source": [
    "train_df.dtypes"
   ]
  },
  {
   "cell_type": "markdown",
   "metadata": {},
   "source": [
    "## Model building "
   ]
  },
  {
   "cell_type": "code",
   "execution_count": 21,
   "metadata": {},
   "outputs": [],
   "source": [
    "target = 'fare_amount'\n",
    "features = ['pickup_longitude','pickup_latitude','dropoff_longitude','dropoff_latitude',\n",
    "            'passenger_count','distance_km','hour_of_day','weekday','month','quarter',\n",
    "            'dayofyear','year']\n",
    "\n",
    "from sklearn.model_selection import train_test_split\n",
    "\n",
    "X_train, X_test, y_train, y_test = train_test_split(train_df[features], train_df[target], test_size=0.25)"
   ]
  },
  {
   "cell_type": "code",
   "execution_count": null,
   "metadata": {},
   "outputs": [],
   "source": []
  },
  {
   "cell_type": "markdown",
   "metadata": {},
   "source": [
    "## Model traininig"
   ]
  },
  {
   "cell_type": "code",
   "execution_count": 37,
   "metadata": {},
   "outputs": [],
   "source": [
    "from sklearn.ensemble import RandomForestClassifier\n",
    "from sklearn.ensemble import RandomForestRegressor"
   ]
  },
  {
   "cell_type": "code",
   "execution_count": 38,
   "metadata": {},
   "outputs": [],
   "source": [
    "rf = RandomForestRegressor(n_estimators = 100)"
   ]
  },
  {
   "cell_type": "code",
   "execution_count": 39,
   "metadata": {},
   "outputs": [
    {
     "data": {
      "text/plain": [
       "RandomForestRegressor(bootstrap=True, criterion='mse', max_depth=None,\n",
       "                      max_features='auto', max_leaf_nodes=None,\n",
       "                      min_impurity_decrease=0.0, min_impurity_split=None,\n",
       "                      min_samples_leaf=1, min_samples_split=2,\n",
       "                      min_weight_fraction_leaf=0.0, n_estimators=100,\n",
       "                      n_jobs=None, oob_score=False, random_state=None,\n",
       "                      verbose=0, warm_start=False)"
      ]
     },
     "execution_count": 39,
     "metadata": {},
     "output_type": "execute_result"
    }
   ],
   "source": [
    "rf.fit(X_train,y_train)"
   ]
  },
  {
   "cell_type": "code",
   "execution_count": 40,
   "metadata": {},
   "outputs": [],
   "source": [
    "y_predicted = rf.predict(X_test)"
   ]
  },
  {
   "cell_type": "markdown",
   "metadata": {},
   "source": [
    "### Evalutation based on RMSE"
   ]
  },
  {
   "cell_type": "code",
   "execution_count": 41,
   "metadata": {},
   "outputs": [
    {
     "name": "stdout",
     "output_type": "stream",
     "text": [
      "4.4737016991247325\n"
     ]
    }
   ],
   "source": [
    "from sklearn.metrics import mean_squared_error\n",
    "from math import sqrt\n",
    "\n",
    "rms = sqrt(mean_squared_error(y_test, y_predicted))\n",
    "print(rms)"
   ]
  },
  {
   "cell_type": "markdown",
   "metadata": {},
   "source": [
    "## Model selection"
   ]
  },
  {
   "cell_type": "code",
   "execution_count": null,
   "metadata": {},
   "outputs": [
    {
     "name": "stderr",
     "output_type": "stream",
     "text": [
      "c:\\users\\val\\appdata\\local\\programs\\python\\python37\\lib\\site-packages\\sklearn\\svm\\base.py:193: FutureWarning: The default value of gamma will change from 'auto' to 'scale' in version 0.22 to account better for unscaled features. Set gamma explicitly to 'auto' or 'scale' to avoid this warning.\n",
      "  \"avoid this warning.\", FutureWarning)\n"
     ]
    }
   ],
   "source": [
    "from sklearn import svm\n",
    "from sklearn.linear_model import LinearRegression\n",
    "from sklearn.linear_model import Lasso\n",
    "from sklearn.linear_model import ElasticNet\n",
    "from sklearn.tree import DecisionTreeRegressor\n",
    "from sklearn.neighbors import KNeighborsRegressor\n",
    "from sklearn.ensemble import GradientBoostingRegressor\n",
    "from sklearn.ensemble import RandomForestRegressor\n",
    "import xgboost as xgb\n",
    "\n",
    "classifiers = [\n",
    "    svm.SVR(gamma='auto'),\n",
    "    LinearRegression(),\n",
    "    Lasso(),\n",
    "    ElasticNet(),\n",
    "    DecisionTreeRegressor(),\n",
    "    KNeighborsRegressor(),\n",
    "    GradientBoostingRegressor(n_estimators = 100),\n",
    "    RandomForestRegressor(n_estimators = 100),\n",
    "    xgb.XGBRegressor(),\n",
    "    ]\n",
    "for classifier in classifiers:\n",
    "    pipe = classifier\n",
    "    pipe.fit(X_train, y_train)\n",
    "    y_predicted = pipe.predict(X_test)\n",
    "    print(classifier)\n",
    "    print(\"model rmse: %.3f\" %  sqrt(mean_squared_error(y_test, y_predicted)))"
   ]
  },
  {
   "cell_type": "code",
   "execution_count": 43,
   "metadata": {},
   "outputs": [],
   "source": [
    "## Pipeline? Do we need to do anything with data, normalize, scale, encode etc?"
   ]
  },
  {
   "cell_type": "code",
   "execution_count": 44,
   "metadata": {},
   "outputs": [],
   "source": [
    "from sklearn.compose import ColumnTransformer\n",
    "from sklearn.pipeline import Pipeline\n",
    "from sklearn.impute import SimpleImputer\n",
    "from sklearn.preprocessing import StandardScaler\n",
    "from sklearn.preprocessing import OneHotEncoder\n",
    "from sklearn.preprocessing import Normalizer"
   ]
  },
  {
   "cell_type": "code",
   "execution_count": null,
   "metadata": {},
   "outputs": [],
   "source": []
  },
  {
   "cell_type": "code",
   "execution_count": 48,
   "metadata": {},
   "outputs": [],
   "source": [
    "answer = rf.predict(test_df[features])"
   ]
  },
  {
   "cell_type": "code",
   "execution_count": 52,
   "metadata": {},
   "outputs": [],
   "source": [
    "# dataframe with predictions\n",
    "kaggle = pd.DataFrame({'key':test_df['key'],'fare_amount': answer})\n",
    "\n",
    "# save to csv\n",
    "kaggle.to_csv('predictions.csv', index=False)\n",
    "\n",
    "#1st try Score: 3.32363"
   ]
  },
  {
   "cell_type": "code",
   "execution_count": null,
   "metadata": {},
   "outputs": [],
   "source": []
  },
  {
   "cell_type": "code",
   "execution_count": null,
   "metadata": {},
   "outputs": [],
   "source": []
  }
 ],
 "metadata": {
  "kernelspec": {
   "display_name": "Python 3",
   "language": "python",
   "name": "python3"
  },
  "language_info": {
   "codemirror_mode": {
    "name": "ipython",
    "version": 3
   },
   "file_extension": ".py",
   "mimetype": "text/x-python",
   "name": "python",
   "nbconvert_exporter": "python",
   "pygments_lexer": "ipython3",
   "version": "3.7.4"
  }
 },
 "nbformat": 4,
 "nbformat_minor": 2
}
